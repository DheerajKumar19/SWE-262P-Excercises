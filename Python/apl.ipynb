{
 "cells": [
  {
   "cell_type": "code",
   "execution_count": 104,
   "metadata": {},
   "outputs": [],
   "source": [
    "import numpy as np"
   ]
  },
  {
   "cell_type": "code",
   "execution_count": 105,
   "metadata": {},
   "outputs": [],
   "source": [
    "characters = np.array([' ']+list(open(\"pride-and-prejudice.txt\").read())+[' '])\n",
    "characters[~np.char.isalpha(characters)] = ' '\n",
    "characters = np.char.upper(characters)\n",
    "characters = np.char.replace(characters,'A','4')\n",
    "characters = np.char.replace(characters,'E','3')\n",
    "characters = np.char.replace(characters,'I','1')\n",
    "characters = np.char.replace(characters,'O','0')\n",
    "characters = np.char.replace(characters,'U','_')\n",
    "# leet stuff here"
   ]
  },
  {
   "cell_type": "code",
   "execution_count": 106,
   "metadata": {},
   "outputs": [],
   "source": [
    "stop_words = np.array(list(set(open('stop_words.txt').read().split(','))))\n",
    "stop_words = np.char.upper(stop_words)\n",
    "stop_words = np.char.replace(stop_words,'A','4')\n",
    "stop_words = np.char.replace(stop_words,'E','3')\n",
    "stop_words = np.char.replace(stop_words,'I','1')\n",
    "stop_words = np.char.replace(stop_words,'O','0')\n",
    "stop_words = np.char.replace(stop_words,'U','_')"
   ]
  },
  {
   "cell_type": "code",
   "execution_count": 107,
   "metadata": {},
   "outputs": [],
   "source": [
    "spaces = characters == \" \""
   ]
  },
  {
   "cell_type": "code",
   "execution_count": 108,
   "metadata": {},
   "outputs": [],
   "source": [
    "# This returns a tuple for some reason\n",
    "spaces_indices = np.where(spaces)[0]\n",
    "spaces_indices = spaces_indices.repeat(2)[1:-1]"
   ]
  },
  {
   "cell_type": "code",
   "execution_count": 109,
   "metadata": {},
   "outputs": [],
   "source": [
    "word_spans = np.reshape(spaces_indices, (-1, 2))"
   ]
  },
  {
   "cell_type": "code",
   "execution_count": 110,
   "metadata": {},
   "outputs": [
    {
     "data": {
      "text/plain": [
       "array([[     0,      4],\n",
       "       [     4,     12],\n",
       "       [    12,     22],\n",
       "       ...,\n",
       "       [704130, 704134],\n",
       "       [704134, 704141],\n",
       "       [704141, 704142]], dtype=int64)"
      ]
     },
     "execution_count": 110,
     "metadata": {},
     "output_type": "execute_result"
    }
   ],
   "source": [
    "word_spans"
   ]
  },
  {
   "cell_type": "code",
   "execution_count": 111,
   "metadata": {},
   "outputs": [],
   "source": [
    "span_lengths = (word_spans[:, 1] - word_spans[:, 0])\n",
    "word_spans = word_spans[span_lengths > 2]"
   ]
  },
  {
   "cell_type": "code",
   "execution_count": 124,
   "metadata": {},
   "outputs": [],
   "source": [
    "def get_word(span):\n",
    "    chars = characters[span[0] : span[1]]\n",
    "    return \"\".join(chars).strip()\n",
    "\n",
    "words = np.array(list(map(get_word, word_spans)))"
   ]
  },
  {
   "cell_type": "code",
   "execution_count": 125,
   "metadata": {},
   "outputs": [
    {
     "data": {
      "text/plain": [
       "array(['TH3', 'PR0J3CT', 'G_T3NB3RG', ..., '4B0_T', 'N3W', '3B00KS'],\n",
       "      dtype='<U17')"
      ]
     },
     "execution_count": 125,
     "metadata": {},
     "output_type": "execute_result"
    }
   ],
   "source": [
    "words"
   ]
  },
  {
   "cell_type": "code",
   "execution_count": 126,
   "metadata": {},
   "outputs": [],
   "source": [
    "is_stop_word = np.isin(words, stop_words)"
   ]
  },
  {
   "cell_type": "code",
   "execution_count": 129,
   "metadata": {},
   "outputs": [],
   "source": [
    "non_stop_words = words[~is_stop_word]"
   ]
  },
  {
   "cell_type": "code",
   "execution_count": 134,
   "metadata": {},
   "outputs": [],
   "source": [
    "bigrams = np.reshape(non_stop_words.repeat(2)[1:-1], (-1, 2))"
   ]
  },
  {
   "cell_type": "code",
   "execution_count": 137,
   "metadata": {},
   "outputs": [],
   "source": [
    "bigrams, counts = np.unique(bigrams, axis=0, return_counts=True)\n",
    "wf_sorted = sorted(zip(bigrams, counts), key=lambda t: t[1], reverse=True)"
   ]
  },
  {
   "cell_type": "code",
   "execution_count": 147,
   "metadata": {},
   "outputs": [
    {
     "data": {
      "text/plain": [
       "(array(['MR', 'D4RCY'], dtype='<U17'), 273)"
      ]
     },
     "execution_count": 147,
     "metadata": {},
     "output_type": "execute_result"
    }
   ],
   "source": [
    "wf_sorted[0]"
   ]
  },
  {
   "cell_type": "code",
   "execution_count": 146,
   "metadata": {},
   "outputs": [
    {
     "name": "stdout",
     "output_type": "stream",
     "text": [
      "MR, D4RCY: 273\n",
      "MRS, B3NN3T: 153\n",
      "MR, C0LL1NS: 150\n",
      "L4DY, C4TH3R1N3: 116\n",
      "MR, B1NGL3Y: 115\n",
      "MR, B3NN3T: 89\n",
      "M1SS, B1NGL3Y: 87\n",
      "PR0J3CT, G_T3NB3RG: 87\n",
      "MR, W1CKH4M: 73\n",
      "M1SS, B3NN3T: 65\n",
      "MRS, G4RD1N3R: 58\n",
      "G_T3NB3RG, TM: 57\n",
      "S1R, W1LL14M: 44\n",
      "D3, B0_RGH: 39\n",
      "M1SS, D4RCY: 39\n",
      "Y0_NG, M4N: 38\n",
      "MR, G4RD1N3R: 33\n",
      "C0L0N3L, F1TZW1LL14M: 30\n",
      "MRS, C0LL1NS: 29\n",
      "C0L0N3L, F0RST3R: 27\n",
      "M1SS, L_C4S: 25\n",
      "Y0_NG, L4D13S: 25\n",
      "CR13D, 3L1Z4B3TH: 24\n",
      "GR34T, D34L: 23\n",
      "_NCL3, 4_NT: 23\n"
     ]
    }
   ],
   "source": [
    "for (a,b), count in wf_sorted[:25]:\n",
    "    print(str(a) + \", \" + str(b) + \": \" + str(count))"
   ]
  }
 ],
 "metadata": {
  "kernelspec": {
   "display_name": "Python 3",
   "language": "python",
   "name": "python3"
  },
  "language_info": {
   "codemirror_mode": {
    "name": "ipython",
    "version": 3
   },
   "file_extension": ".py",
   "mimetype": "text/x-python",
   "name": "python",
   "nbconvert_exporter": "python",
   "pygments_lexer": "ipython3",
   "version": "3.10.10"
  },
  "orig_nbformat": 4
 },
 "nbformat": 4,
 "nbformat_minor": 2
}
